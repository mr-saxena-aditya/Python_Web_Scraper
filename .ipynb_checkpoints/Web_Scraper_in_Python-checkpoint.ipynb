{
 "cells": [
  {
   "cell_type": "code",
   "execution_count": 1,
   "id": "cb38a35a",
   "metadata": {},
   "outputs": [
    {
     "name": "stdout",
     "output_type": "stream",
     "text": [
      "Requirement already satisfied: beautifulsoup4 in /Users/adiya/opt/anaconda3/lib/python3.9/site-packages (4.11.1)\n",
      "Requirement already satisfied: soupsieve>1.2 in /Users/adiya/opt/anaconda3/lib/python3.9/site-packages (from beautifulsoup4) (2.3.1)\n",
      "Requirement already satisfied: nbconvert in /Users/adiya/opt/anaconda3/lib/python3.9/site-packages (6.4.4)\n",
      "Requirement already satisfied: nbclient<0.6.0,>=0.5.0 in /Users/adiya/opt/anaconda3/lib/python3.9/site-packages (from nbconvert) (0.5.13)\n",
      "Requirement already satisfied: mistune<2,>=0.8.1 in /Users/adiya/opt/anaconda3/lib/python3.9/site-packages (from nbconvert) (0.8.4)\n",
      "Requirement already satisfied: testpath in /Users/adiya/opt/anaconda3/lib/python3.9/site-packages (from nbconvert) (0.6.0)\n",
      "Requirement already satisfied: nbformat>=4.4 in /Users/adiya/opt/anaconda3/lib/python3.9/site-packages (from nbconvert) (5.5.0)\n",
      "Requirement already satisfied: defusedxml in /Users/adiya/opt/anaconda3/lib/python3.9/site-packages (from nbconvert) (0.7.1)\n",
      "Requirement already satisfied: jupyterlab-pygments in /Users/adiya/opt/anaconda3/lib/python3.9/site-packages (from nbconvert) (0.1.2)\n",
      "Requirement already satisfied: bleach in /Users/adiya/opt/anaconda3/lib/python3.9/site-packages (from nbconvert) (4.1.0)\n",
      "Requirement already satisfied: traitlets>=5.0 in /Users/adiya/opt/anaconda3/lib/python3.9/site-packages (from nbconvert) (5.1.1)\n",
      "Requirement already satisfied: pandocfilters>=1.4.1 in /Users/adiya/opt/anaconda3/lib/python3.9/site-packages (from nbconvert) (1.5.0)\n",
      "Requirement already satisfied: beautifulsoup4 in /Users/adiya/opt/anaconda3/lib/python3.9/site-packages (from nbconvert) (4.11.1)\n",
      "Requirement already satisfied: jinja2>=2.4 in /Users/adiya/opt/anaconda3/lib/python3.9/site-packages (from nbconvert) (2.11.3)\n",
      "Requirement already satisfied: jupyter-core in /Users/adiya/opt/anaconda3/lib/python3.9/site-packages (from nbconvert) (4.11.1)\n",
      "Requirement already satisfied: pygments>=2.4.1 in /Users/adiya/opt/anaconda3/lib/python3.9/site-packages (from nbconvert) (2.11.2)\n",
      "Requirement already satisfied: entrypoints>=0.2.2 in /Users/adiya/opt/anaconda3/lib/python3.9/site-packages (from nbconvert) (0.4)\n",
      "Requirement already satisfied: MarkupSafe>=0.23 in /Users/adiya/opt/anaconda3/lib/python3.9/site-packages (from jinja2>=2.4->nbconvert) (2.0.1)\n",
      "Requirement already satisfied: jupyter-client>=6.1.5 in /Users/adiya/opt/anaconda3/lib/python3.9/site-packages (from nbclient<0.6.0,>=0.5.0->nbconvert) (7.3.4)\n",
      "Requirement already satisfied: nest-asyncio in /Users/adiya/opt/anaconda3/lib/python3.9/site-packages (from nbclient<0.6.0,>=0.5.0->nbconvert) (1.5.5)\n",
      "Requirement already satisfied: fastjsonschema in /Users/adiya/opt/anaconda3/lib/python3.9/site-packages (from nbformat>=4.4->nbconvert) (2.16.2)\n",
      "Requirement already satisfied: jsonschema>=2.6 in /Users/adiya/opt/anaconda3/lib/python3.9/site-packages (from nbformat>=4.4->nbconvert) (4.16.0)\n",
      "Requirement already satisfied: soupsieve>1.2 in /Users/adiya/opt/anaconda3/lib/python3.9/site-packages (from beautifulsoup4->nbconvert) (2.3.1)\n",
      "Requirement already satisfied: six>=1.9.0 in /Users/adiya/opt/anaconda3/lib/python3.9/site-packages (from bleach->nbconvert) (1.16.0)\n",
      "Requirement already satisfied: packaging in /Users/adiya/opt/anaconda3/lib/python3.9/site-packages (from bleach->nbconvert) (21.3)\n",
      "Requirement already satisfied: webencodings in /Users/adiya/opt/anaconda3/lib/python3.9/site-packages (from bleach->nbconvert) (0.5.1)\n",
      "Requirement already satisfied: attrs>=17.4.0 in /Users/adiya/opt/anaconda3/lib/python3.9/site-packages (from jsonschema>=2.6->nbformat>=4.4->nbconvert) (21.4.0)\n",
      "Requirement already satisfied: pyrsistent!=0.17.0,!=0.17.1,!=0.17.2,>=0.14.0 in /Users/adiya/opt/anaconda3/lib/python3.9/site-packages (from jsonschema>=2.6->nbformat>=4.4->nbconvert) (0.18.0)\n",
      "Requirement already satisfied: pyzmq>=23.0 in /Users/adiya/opt/anaconda3/lib/python3.9/site-packages (from jupyter-client>=6.1.5->nbclient<0.6.0,>=0.5.0->nbconvert) (23.2.0)\n",
      "Requirement already satisfied: tornado>=6.0 in /Users/adiya/opt/anaconda3/lib/python3.9/site-packages (from jupyter-client>=6.1.5->nbclient<0.6.0,>=0.5.0->nbconvert) (6.1)\n",
      "Requirement already satisfied: python-dateutil>=2.8.2 in /Users/adiya/opt/anaconda3/lib/python3.9/site-packages (from jupyter-client>=6.1.5->nbclient<0.6.0,>=0.5.0->nbconvert) (2.8.2)\n",
      "Requirement already satisfied: pyparsing!=3.0.5,>=2.0.2 in /Users/adiya/opt/anaconda3/lib/python3.9/site-packages (from packaging->bleach->nbconvert) (3.0.9)\n"
     ]
    }
   ],
   "source": [
    "# Step 1: Install Required Libraries\n",
    "try:\n",
    "    !pip install beautifulsoup4\n",
    "    !pip install nbconvert\n",
    "except:\n",
    "    print(\"An error occurred while installing Beautiful Soup.\")"
   ]
  },
  {
   "cell_type": "code",
   "execution_count": 2,
   "id": "9ee86329",
   "metadata": {},
   "outputs": [],
   "source": [
    "# Step 2: Import Required Libraries\n",
    "\n",
    "import requests\n",
    "import csv\n",
    "from bs4 import BeautifulSoup"
   ]
  },
  {
   "cell_type": "code",
   "execution_count": 3,
   "id": "4a9cde7e",
   "metadata": {},
   "outputs": [
    {
     "name": "stdout",
     "output_type": "stream",
     "text": [
      "Please provide an URL : https://openai.com/\n"
     ]
    }
   ],
   "source": [
    "# Step 3: Get URL from User\n",
    "url = input(\"Please provide an URL : \")"
   ]
  },
  {
   "cell_type": "code",
   "execution_count": 4,
   "id": "a647f1c3",
   "metadata": {},
   "outputs": [],
   "source": [
    "# Step 4: Send HTTP Request\n",
    "\n",
    "response = requests.get(url)"
   ]
  },
  {
   "cell_type": "code",
   "execution_count": 5,
   "id": "720079c8",
   "metadata": {},
   "outputs": [],
   "source": [
    "# Step 5: Parse HTML Content\n",
    "\n",
    "soup = BeautifulSoup(response.text, \"html.parser\")"
   ]
  },
  {
   "cell_type": "code",
   "execution_count": 6,
   "id": "24b8e12f",
   "metadata": {},
   "outputs": [],
   "source": [
    "# Step 6: Find Elements\n",
    "\n",
    "links = []"
   ]
  },
  {
   "cell_type": "code",
   "execution_count": 8,
   "id": "61223755",
   "metadata": {},
   "outputs": [
    {
     "name": "stdout",
     "output_type": "stream",
     "text": [
      "['https://chat.openai.com', 'https://platform.openai.com/overview', 'https://platform.openai.com/docs/introduction', 'https://platform.openai.com/docs/api-reference', 'https://platform.openai.com/examples', 'https://chat.openai.com', 'https://twitter.com/OpenAI', 'https://youtube.com/OpenAI', 'https://github.com/openai', 'https://soundcloud.com/openai_audio', 'https://www.linkedin.com/company/openai', 'https://chat.openai.com', 'https://platform.openai.com/overview', 'https://platform.openai.com/docs/introduction', 'https://platform.openai.com/docs/api-reference', 'https://platform.openai.com/examples', 'https://chat.openai.com', 'https://twitter.com/OpenAI', 'https://youtube.com/OpenAI', 'https://github.com/openai', 'https://soundcloud.com/openai_audio', 'https://www.linkedin.com/company/openai']\n"
     ]
    }
   ],
   "source": [
    "# Step 7: Save Data\n",
    "\n",
    "for link in soup.find_all(\"a\"):\n",
    "    href = link.get(\"href\")\n",
    "    if href.startswith(\"http\"):\n",
    "        links.append(href)\n",
    "\n",
    "print(links)\n",
    "\n",
    "with open('data.csv', mode='w') as file:\n",
    "    writer = csv.writer(file)\n",
    "    writer.writerow([links])"
   ]
  },
  {
   "cell_type": "code",
   "execution_count": null,
   "id": "847e3619",
   "metadata": {},
   "outputs": [],
   "source": []
  }
 ],
 "metadata": {
  "kernelspec": {
   "display_name": "Python 3 (ipykernel)",
   "language": "python",
   "name": "python3"
  },
  "language_info": {
   "codemirror_mode": {
    "name": "ipython",
    "version": 3
   },
   "file_extension": ".py",
   "mimetype": "text/x-python",
   "name": "python",
   "nbconvert_exporter": "python",
   "pygments_lexer": "ipython3",
   "version": "3.9.13"
  }
 },
 "nbformat": 4,
 "nbformat_minor": 5
}
